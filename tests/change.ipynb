{
 "cells": [
  {
   "cell_type": "code",
   "execution_count": 3,
   "metadata": {},
   "outputs": [],
   "source": [
    "import sys\n",
    "sys.path.append('..')\n",
    "\n",
    "import QTM as q \n",
    "import identify as id\n",
    "from operations import *"
   ]
  },
  {
   "cell_type": "code",
   "execution_count": 39,
   "metadata": {},
   "outputs": [],
   "source": [
    "def change_geom(SeT1, geoM1, SeT2, geoM2, SeT, diff_index):\n",
    "    branches1, branches2 = compare_geom(SeT1, geoM1, SeT2, geoM2, SeT, diff_index)\n",
    "    return((len(set(branches1) - set(branches2)) + len(set(branches2) - set(branches1)))/len(branches1))"
   ]
  },
  {
   "cell_type": "code",
   "execution_count": 40,
   "metadata": {},
   "outputs": [
    {
     "data": {
      "text/plain": [
       "0.6"
      ]
     },
     "execution_count": 40,
     "metadata": {},
     "output_type": "execute_result"
    }
   ],
   "source": [
    "change(qlocid1, qlocid2)"
   ]
  },
  {
   "cell_type": "code",
   "execution_count": 18,
   "metadata": {},
   "outputs": [],
   "source": [
    "qlocid1 = [1,2,3,0,2,3,0,2,8,1,3,0,4,3,4,2,4,2,3,0,4,1]\n",
    "qlocid2 = [1,2,3,0,2,3,0,2,8,1,3,1,4,3,4,3,4,2,3,0,4,1]\n",
    "\n",
    "def change(qlocid1, qlocid2):\n",
    "    ''' \n",
    "    Measure change between two qlocids\n",
    "\n",
    "    Parameters:\n",
    "        qlocid1 (bytes): qlocid 1\n",
    "        qlocid2 (bytes): qlocid 2\n",
    "\n",
    "    Returns:\n",
    "        IoU (float): Intersection over Union, 1.0 = identical, 0.0 = no overlap\n",
    "        SeT (bytes): Smallest enclosing Triangle, enclosing both qlocids         \n",
    "    '''\n",
    "    SeT1, geoM1, geomType1 = split_qlocid(qlocid1)\n",
    "    SeT2, geoM2, geomType2 = split_qlocid(qlocid2)\n",
    "\n",
    "    if geomType1 != geomType2:\n",
    "        raise ValueError(\"The two qlocids are not of the same geometry type.\")\n",
    "   \n",
    "    #SeT likenesses\n",
    "    shorter = min(len(SeT1), len(SeT2))\n",
    "    diff_index = np.argmax(np.not_equal(SeT1[:shorter], SeT2[:shorter]))\n",
    "   \n",
    "    if diff_index == 0:\n",
    "        diff_index = shorter\n",
    "\n",
    "    SeT = SeT1[:diff_index] # the trunk\n",
    "\n",
    "\n",
    "    # Matching of a point\n",
    "    # TODO: Implement point matching\n",
    "    if geomType1 == 0:\n",
    "        raise NotImplementedError(\"Point change detection is not supported\")\n",
    "\n",
    "    # Matching of a polygon\n",
    "    elif geomType1 == 8:\n",
    "        return change_geom(SeT1, geoM1, SeT2, geoM2, SeT, diff_index)\n",
    "    \n",
    "    # Matching of a line\n",
    "    # TODO: Implement line matching\n",
    "    elif geomType1 == 7:\n",
    "        raise NotImplementedError(\"Line change detection is not supported yet\")\n",
    "\n",
    "    else:\n",
    "        raise ValueError(\"Unsupported object type to detect changes or bad encoded qlocids\")"
   ]
  }
 ],
 "metadata": {
  "kernelspec": {
   "display_name": "LocID",
   "language": "python",
   "name": "python3"
  },
  "language_info": {
   "codemirror_mode": {
    "name": "ipython",
    "version": 3
   },
   "file_extension": ".py",
   "mimetype": "text/x-python",
   "name": "python",
   "nbconvert_exporter": "python",
   "pygments_lexer": "ipython3",
   "version": "3.11.3"
  },
  "orig_nbformat": 4
 },
 "nbformat": 4,
 "nbformat_minor": 2
}
