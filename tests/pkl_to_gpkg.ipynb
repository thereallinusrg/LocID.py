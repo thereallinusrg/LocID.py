{
 "cells": [
  {
   "cell_type": "code",
   "execution_count": 4,
   "metadata": {},
   "outputs": [],
   "source": [
    "import geopandas as gpd\n",
    "import pandas as pd"
   ]
  },
  {
   "cell_type": "code",
   "execution_count": 20,
   "metadata": {},
   "outputs": [],
   "source": [
    "test_buildings = pd.read_pickle(\"random_sample_nona_matched.pkl\").reset_index()\n",
    "test_buildings1 = test_buildings[['geometry', 'utm_area']]\n",
    "test_buildings2 = test_buildings[['rand_geometry', 'rand_utm_area']]"
   ]
  },
  {
   "cell_type": "code",
   "execution_count": 29,
   "metadata": {},
   "outputs": [],
   "source": [
    "gdf1 = gpd.GeoDataFrame(test_buildings1)\n",
    "gdf2 = gpd.GeoDataFrame(test_buildings2, geometry=test_buildings.rand_geometry)\n",
    "gdf2 = gdf2.drop('rand_geometry', axis=1)"
   ]
  },
  {
   "cell_type": "code",
   "execution_count": 31,
   "metadata": {},
   "outputs": [],
   "source": [
    "gdf1.to_file('test_buildings.gpkg', driver='GPKG')\n",
    "gdf2.to_file('test_buildings_rand.gpkg', driver='GPKG')\n"
   ]
  }
 ],
 "metadata": {
  "kernelspec": {
   "display_name": "Python 3",
   "language": "python",
   "name": "python3"
  },
  "language_info": {
   "codemirror_mode": {
    "name": "ipython",
    "version": 3
   },
   "file_extension": ".py",
   "mimetype": "text/x-python",
   "name": "python",
   "nbconvert_exporter": "python",
   "pygments_lexer": "ipython3",
   "version": "3.11.4"
  },
  "orig_nbformat": 4
 },
 "nbformat": 4,
 "nbformat_minor": 2
}
