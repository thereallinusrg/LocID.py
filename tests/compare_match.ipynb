{
 "cells": [
  {
   "cell_type": "markdown",
   "id": "9b1d29b1",
   "metadata": {},
   "source": [
    "Notebook to create data for analysis of matching algorithm parameters lvl and tol"
   ]
  },
  {
   "cell_type": "code",
   "execution_count": 6,
   "id": "casual-executive",
   "metadata": {},
   "outputs": [],
   "source": [
    "import pandas as pd\n",
    "\n",
    "import sys\n",
    "sys.path.append('..')\n",
    "\n",
    "from operations import match\n",
    "import identify as id"
   ]
  },
  {
   "cell_type": "code",
   "execution_count": 7,
   "id": "remarkable-facial",
   "metadata": {},
   "outputs": [],
   "source": [
    "gdf = pd.read_pickle(\"test_buildings.pkl\")\n",
    "gdf = gdf.iloc[105:110, :] \n",
    "\n",
    "tol_range = [1e-03,1e-04,1e-05,1e-06,1e-07]\n",
    "lvl_range = [17,18,19, 20, 21]\n",
    "\n",
    "for tol in tol_range:\n",
    "    for lvl in lvl_range:\n",
    "        try:\n",
    "            gdf[f'rand_locid'] = gdf.apply(lambda x: id.identify(x.rand_geometry, tol, lvl), axis=1) \n",
    "            gdf[f'locid'] = gdf.apply(lambda x: id.identify(x.geometry, tol, lvl), axis=1) \n",
    "            gdf[f'match_t{tol}_l{lvl}'] = gdf.apply(lambda x: match(x.locid, x.rand_locid),axis = 1)\n",
    "        except ValueError:\n",
    "            gdf[f'match_t{tol}_l{lvl}'] = None\n",
    "            continue\n",
    "   \n",
    "gdf.to_pickle(f\"export_105-110.pkl\")"
   ]
  }
 ],
 "metadata": {
  "kernelspec": {
   "display_name": "Python 3",
   "language": "python",
   "name": "python3"
  },
  "language_info": {
   "codemirror_mode": {
    "name": "ipython",
    "version": 3
   },
   "file_extension": ".py",
   "mimetype": "text/x-python",
   "name": "python",
   "nbconvert_exporter": "python",
   "pygments_lexer": "ipython3",
   "version": "3.11.4"
  }
 },
 "nbformat": 4,
 "nbformat_minor": 5
}
