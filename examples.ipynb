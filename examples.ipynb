{
 "cells": [
  {
   "cell_type": "code",
   "execution_count": 1,
   "metadata": {},
   "outputs": [],
   "source": [
    "import QTM as q \n",
    "import identify as id\n",
    "import operations as op\n",
    "\n",
    "import geopandas as gpd\n",
    "from shapely import Polygon"
   ]
  },
  {
   "cell_type": "code",
   "execution_count": 2,
   "metadata": {},
   "outputs": [
    {
     "data": {
      "image/svg+xml": [
       "<svg xmlns=\"http://www.w3.org/2000/svg\" xmlns:xlink=\"http://www.w3.org/1999/xlink\" width=\"100.0\" height=\"100.0\" viewBox=\"8.549012244 47.396155044000004 0.0007400120000013999 0.0008088119999953847\" preserveAspectRatio=\"xMinYMin meet\"><g transform=\"matrix(1,0,0,-1,0,94.7931189)\"><path fill-rule=\"evenodd\" fill=\"#66cc99\" stroke=\"#555555\" stroke-width=\"1.6176239999907693e-05\" opacity=\"0.6\" d=\"M 8.5490422,47.3962625 L 8.5493364,47.396185 L 8.5497223,47.3968569 L 8.54943,47.3969339 L 8.5490422,47.3962625 z\" /></g></svg>"
      ],
      "text/plain": [
       "<POLYGON ((8.549 47.396, 8.549 47.396, 8.55 47.397, 8.549 47.397, 8.549 47.3...>"
      ]
     },
     "execution_count": 2,
     "metadata": {},
     "output_type": "execute_result"
    }
   ],
   "source": [
    "# Example Polygon, the Y25 building on campus Irchel in EPSG:4326\n",
    "example = Polygon([[8.5490422, 47.3962625], [8.5493364, 47.396185], \n",
    "[8.5497223, 47.3968569], [8.54943, 47.3969339], [8.5490422, 47.3962625]])\n",
    "example "
   ]
  },
  {
   "cell_type": "code",
   "execution_count": 3,
   "metadata": {},
   "outputs": [
    {
     "name": "stdout",
     "output_type": "stream",
     "text": [
      "[1, 1, 3, 3, 0, 1, 3, 1, 3, 0, 3, 1, 2, 3, 8, 3, 3, 1, 0, 2, 4, 0, 1, 0, 2, 4, 3, 2, 4, 2, 0, 2, 2, 4, 1, 2, 2, 4, 0, 1, 0, 3, 1, 4, 3, 4, 0, 4, 3, 1, 1, 4, 2, 4, 0]\n"
     ]
    }
   ],
   "source": [
    "print(id.identify(example))"
   ]
  },
  {
   "cell_type": "code",
   "execution_count": 4,
   "metadata": {},
   "outputs": [
    {
     "name": "stdout",
     "output_type": "stream",
     "text": [
      "[1, 1, 3, 3, 8]\n"
     ]
    }
   ],
   "source": [
    "print(id.identify(example, tol = 0.1))"
   ]
  },
  {
   "cell_type": "code",
   "execution_count": 12,
   "metadata": {},
   "outputs": [
    {
     "name": "stdout",
     "output_type": "stream",
     "text": [
      "[1, 1, 3, 3, 0, 1, 3, 1, 3, 0, 3, 1, 2, 3, 8, 3, 3, 1, 0, 4, 2, 4, 0, 2, 4, 0, 1, 0, 4, 3]\n"
     ]
    }
   ],
   "source": [
    "print(id.identify(example, lvl = 17))"
   ]
  },
  {
   "cell_type": "code",
   "execution_count": 23,
   "metadata": {},
   "outputs": [
    {
     "name": "stdout",
     "output_type": "stream",
     "text": [
      "[1, 1, 3, 3, 0, 1, 3, 1, 3, 0, 3, 1, 2, 3, 8, 3]\n"
     ]
    }
   ],
   "source": [
    "print(id.identify(example,tol = 1e-04, lvl = 17))"
   ]
  }
 ],
 "metadata": {
  "kernelspec": {
   "display_name": "Python 3",
   "language": "python",
   "name": "python3"
  },
  "language_info": {
   "codemirror_mode": {
    "name": "ipython",
    "version": 3
   },
   "file_extension": ".py",
   "mimetype": "text/x-python",
   "name": "python",
   "nbconvert_exporter": "python",
   "pygments_lexer": "ipython3",
   "version": "3.11.4"
  },
  "orig_nbformat": 4
 },
 "nbformat": 4,
 "nbformat_minor": 2
}
